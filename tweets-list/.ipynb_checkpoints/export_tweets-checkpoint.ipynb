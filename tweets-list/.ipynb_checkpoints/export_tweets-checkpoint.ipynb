{
 "cells": [
  {
   "cell_type": "markdown",
   "metadata": {},
   "source": [
    "Generate lists of tweets\n",
    "=======\n",
    "\n",
    "In order to run this code, you need to create [a Twitter developper account](https://developer.twitter.com) and [create an app](https://developer.twitter.com/en/apps) to retrieve the following 4 codes. "
   ]
  },
  {
   "cell_type": "code",
   "execution_count": 45,
   "metadata": {},
   "outputs": [],
   "source": [
    "consumer_key = 'PUT HERE THE CODE'\n",
    "consumer_secret = 'PUT HERE THE CODE'\n",
    "access_token = 'PUT HERE THE CODE'\n",
    "access_token_secret = 'PUT HERE THE CODE'"
   ]
  },
  {
   "cell_type": "code",
   "execution_count": 2,
   "metadata": {},
   "outputs": [],
   "source": [
    "import tweepy\n",
    "import html\n",
    "import textwrap # string shortening\n",
    "import re # regular expression "
   ]
  },
  {
   "cell_type": "code",
   "execution_count": 53,
   "metadata": {},
   "outputs": [],
   "source": [
    "# useful helpers\n",
    "def printlink(f,s,tid):\n",
    "    f.write('- [' + s + '](' + link_base + str(tid) + ')\\n')\n",
    "def printheader(f, subtitle):\n",
    "    f.write('---\\n')\n",
    "    f.write('layout: page\\n')\n",
    "    f.write('title: \"List of tweets\"\\n')\n",
    "    f.write('description: \"' + subtitle + '\"\\n')\n",
    "    f.write('header-img: \"img/birds.jpg\"\\n')\n",
    "    f.write('---\\n\\n\\n')\n",
    "def myshorten(s):\n",
    "    s = textwrap.shorten(s, 80)\n",
    "    if (s[-5:]=='[...]'):\n",
    "        s = s[:-6]\n",
    "    return s"
   ]
  },
  {
   "cell_type": "code",
   "execution_count": 6,
   "metadata": {},
   "outputs": [],
   "source": [
    "auth = tweepy.OAuthHandler(consumer_key, consumer_secret)\n",
    "auth.set_access_token(access_token, access_token_secret)\n",
    "api = tweepy.API(auth)"
   ]
  },
  {
   "cell_type": "code",
   "execution_count": 54,
   "metadata": {},
   "outputs": [],
   "source": [
    "fmain = open(\"../tweets_main.md\",\"w+\")\n",
    "fold = open(\"../tweets_oldies.md\",\"w+\")\n",
    "link_base = 'https://twitter.com/gabrielpeyre/status/'\n",
    "printheader(fmain, 'Main tweets')\n",
    "printheader(fold, 'Oldies but Goldies')\n",
    "for tweet in tweepy.Cursor(api.user_timeline,\n",
    "                           include_rts=False,\n",
    "                           tweet_mode='extended').items(5000):\n",
    "    s = html.unescape(tweet.full_text) # replace HTML special char\n",
    "    s = re.sub(r'http\\S+', '', s) # remove URLs\n",
    "    s = s.replace('\\n', ' ')    \n",
    "    if (tweet.in_reply_to_status_id==None) & (s[0]!='@'): # do not consider sub-tweets\n",
    "        tid = 123\n",
    "        d = str(tweet.created_at)[0:10]\n",
    "        if s[0:6]=='Oldies':\n",
    "            s = myshorten(s[20:])\n",
    "            printlink(fold, s, tweet.id)\n",
    "        else:\n",
    "            s = myshorten(s)\n",
    "            printlink(fmain, s , tweet.id)\n",
    "fmain.close()   \n",
    "fold.close()   "
   ]
  }
 ],
 "metadata": {
  "kernelspec": {
   "display_name": "Python 3",
   "language": "python",
   "name": "python3"
  },
  "language_info": {
   "codemirror_mode": {
    "name": "ipython",
    "version": 3
   },
   "file_extension": ".py",
   "mimetype": "text/x-python",
   "name": "python",
   "nbconvert_exporter": "python",
   "pygments_lexer": "ipython3",
   "version": "3.7.1"
  }
 },
 "nbformat": 4,
 "nbformat_minor": 2
}
